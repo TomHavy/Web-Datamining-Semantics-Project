{
  "nbformat": 4,
  "nbformat_minor": 0,
  "metadata": {
    "colab": {
      "name": "SemanticsProject.ipynb",
      "provenance": [],
      "collapsed_sections": []
    },
    "kernelspec": {
      "name": "python3",
      "display_name": "Python 3"
    },
    "language_info": {
      "name": "python"
    }
  },
  "cells": [
    {
      "cell_type": "code",
      "execution_count": null,
      "metadata": {
        "id": "i4qcSOW2UxcY"
      },
      "outputs": [],
      "source": [
        "import pandas as pd\n",
        "import requests"
      ]
    },
    {
      "cell_type": "code",
      "source": [
        "URL_LYON = \"https://download.data.grandlyon.com/wfs/rdata?SERVICE=WFS&VERSION=1.1.0&outputformat=GEOJSON&request=GetFeature&typename=jcd_jcdecaux.jcdvelov&SRSNAME=urn:ogc:def:crs:EPSG::4171\"\n",
        "URL_RENNES = \"https://data.rennesmetropole.fr/api/records/1.0/search/?dataset=etat-des-stations-le-velo-star-en-temps-reel\""
      ],
      "metadata": {
        "id": "WLJgXCFEU1QY"
      },
      "execution_count": null,
      "outputs": []
    },
    {
      "cell_type": "code",
      "source": [
        "def requestAPI(url):\n",
        "  req = requests.get(url)\n",
        "  return req.json()"
      ],
      "metadata": {
        "id": "5rDkZLLtjYBv"
      },
      "execution_count": null,
      "outputs": []
    },
    {
      "cell_type": "code",
      "source": [
        "req_lyon = requestAPI(URL_LYON)"
      ],
      "metadata": {
        "id": "V-mKZ2mFVCYX"
      },
      "execution_count": null,
      "outputs": []
    },
    {
      "cell_type": "code",
      "source": [
        "req_rennes = requestAPI(URL_RENNES)"
      ],
      "metadata": {
        "id": "pn2nzjZcVa85"
      },
      "execution_count": null,
      "outputs": []
    },
    {
      "cell_type": "code",
      "source": [
        "def recup_datas_lyon(req_lyon):\n",
        "  features = req_lyon[\"features\"]\n",
        "\n",
        "  stations = []\n",
        "\n",
        "  for station in features:\n",
        "    new_station = {}\n",
        "\n",
        "    properties = station[\"properties\"]\n",
        "\n",
        "    new_station[\"nom\"] = properties[\"name\"]\n",
        "    new_station[\"id_station\"] = properties[\"number\"]\n",
        "    new_station[\"nb_emplacements\"] = properties[\"bike_stands\"]\n",
        "    new_station[\"nb_emplacements_dispo\"] = properties[\"available_bike_stands\"]\n",
        "    new_station[\"nb_velos_dispo\"] = properties[\"available_bikes\"]\n",
        "    new_station[\"etat\"] = properties[\"status\"]\n",
        "    new_station[\"latitude\"] = properties[\"lat\"]\n",
        "    new_station[\"longitude\"] = properties[\"lng\"]\n",
        "    new_station[\"derniere_maj\"] = properties[\"last_update\"]\n",
        "\n",
        "    stations.append(new_station)\n",
        "\n",
        "  return stations"
      ],
      "metadata": {
        "id": "x0fOCTUeVn1o"
      },
      "execution_count": null,
      "outputs": []
    },
    {
      "cell_type": "code",
      "source": [
        "def recup_datas_rennes(req_rennes):\n",
        "  records = req_rennes[\"records\"]\n",
        "\n",
        "  stations = []\n",
        "\n",
        "  for station in records:\n",
        "    new_station = {}\n",
        "\n",
        "    fields = station[\"fields\"]\n",
        "    \n",
        "    new_station[\"nom\"] = fields[\"nom\"]\n",
        "    new_station[\"id_station\"] = fields[\"idstation\"]\n",
        "    new_station[\"nb_emplacements\"] = fields[\"nombreemplacementsactuels\"]\n",
        "    new_station[\"nb_emplacements_dispo\"] = fields[\"nombreemplacementsdisponibles\"]\n",
        "    new_station[\"nb_velos_dispo\"] = fields[\"nombrevelosdisponibles\"]\n",
        "    new_station[\"etat\"] = fields[\"etat\"]\n",
        "    new_station[\"latitude\"] = fields[\"coordonnees\"][0]\n",
        "    new_station[\"longitude\"] = fields[\"coordonnees\"][1]\n",
        "    new_station[\"derniere_maj\"] = fields[\"lastupdate\"] \n",
        "\n",
        "    stations.append(new_station)\n",
        "\n",
        "  return stations"
      ],
      "metadata": {
        "id": "79m97DvvYhFP"
      },
      "execution_count": null,
      "outputs": []
    },
    {
      "cell_type": "code",
      "source": [
        "rennes_stations = pd.DataFrame(recup_datas_rennes(req_rennes))\n",
        "rennes_stations"
      ],
      "metadata": {
        "colab": {
          "base_uri": "https://localhost:8080/",
          "height": 363
        },
        "id": "s-jitjWpafpD",
        "outputId": "cea12ed8-6da6-4d5b-b89d-741e3d899b16"
      },
      "execution_count": null,
      "outputs": [
        {
          "output_type": "execute_result",
          "data": {
            "text/plain": [
              "                            nom id_station  nb_emplacements  \\\n",
              "0              Musée Beaux-Arts       5510               16   \n",
              "1                Plaine de Baud       5546               24   \n",
              "2                Brest - Verdun       5534               24   \n",
              "3                       Marbeuf       5538               20   \n",
              "4                    Gros-Chêne       5578               18   \n",
              "5                      Painlevé       5580               29   \n",
              "6  Joliot-Curie - Chateaubriand       5581               30   \n",
              "7            Pont de Strasbourg       5587               20   \n",
              "8                      Mabilais       5591               25   \n",
              "9                 Champs Libres       5516               24   \n",
              "\n",
              "   nb_emplacements_dispo  nb_velos_dispo               etat   latitude  \\\n",
              "0                      3              13  En fonctionnement  48.109601   \n",
              "1                      9              15  En fonctionnement  48.112461   \n",
              "2                     14              10  En fonctionnement  48.113009   \n",
              "3                     10              10  En fonctionnement  48.111749   \n",
              "4                     12               6  En fonctionnement  48.125408   \n",
              "5                     22               7  En fonctionnement  48.123506   \n",
              "6                     30               0  En fonctionnement  48.124389   \n",
              "7                      5              15  En fonctionnement  48.109859   \n",
              "8                     11              14  En fonctionnement  48.105086   \n",
              "9                     17               7  En fonctionnement  48.105537   \n",
              "\n",
              "   longitude               derniere_maj  \n",
              "0  -1.674080  2022-03-23T11:35:06+00:00  \n",
              "1  -1.643674  2022-03-23T11:35:06+00:00  \n",
              "2  -1.693264  2022-03-23T11:35:06+00:00  \n",
              "3  -1.702077  2022-03-23T11:35:06+00:00  \n",
              "4  -1.664806  2022-03-23T11:35:06+00:00  \n",
              "5  -1.659762  2022-03-23T11:35:06+00:00  \n",
              "6  -1.651203  2022-03-23T11:35:06+00:00  \n",
              "7  -1.656028  2022-03-23T11:35:06+00:00  \n",
              "8  -1.693069  2022-03-23T11:35:06+00:00  \n",
              "9  -1.674328  2022-03-23T11:35:06+00:00  "
            ],
            "text/html": [
              "\n",
              "  <div id=\"df-74a68907-8c00-4440-83b4-81fd4680e180\">\n",
              "    <div class=\"colab-df-container\">\n",
              "      <div>\n",
              "<style scoped>\n",
              "    .dataframe tbody tr th:only-of-type {\n",
              "        vertical-align: middle;\n",
              "    }\n",
              "\n",
              "    .dataframe tbody tr th {\n",
              "        vertical-align: top;\n",
              "    }\n",
              "\n",
              "    .dataframe thead th {\n",
              "        text-align: right;\n",
              "    }\n",
              "</style>\n",
              "<table border=\"1\" class=\"dataframe\">\n",
              "  <thead>\n",
              "    <tr style=\"text-align: right;\">\n",
              "      <th></th>\n",
              "      <th>nom</th>\n",
              "      <th>id_station</th>\n",
              "      <th>nb_emplacements</th>\n",
              "      <th>nb_emplacements_dispo</th>\n",
              "      <th>nb_velos_dispo</th>\n",
              "      <th>etat</th>\n",
              "      <th>latitude</th>\n",
              "      <th>longitude</th>\n",
              "      <th>derniere_maj</th>\n",
              "    </tr>\n",
              "  </thead>\n",
              "  <tbody>\n",
              "    <tr>\n",
              "      <th>0</th>\n",
              "      <td>Musée Beaux-Arts</td>\n",
              "      <td>5510</td>\n",
              "      <td>16</td>\n",
              "      <td>3</td>\n",
              "      <td>13</td>\n",
              "      <td>En fonctionnement</td>\n",
              "      <td>48.109601</td>\n",
              "      <td>-1.674080</td>\n",
              "      <td>2022-03-23T11:35:06+00:00</td>\n",
              "    </tr>\n",
              "    <tr>\n",
              "      <th>1</th>\n",
              "      <td>Plaine de Baud</td>\n",
              "      <td>5546</td>\n",
              "      <td>24</td>\n",
              "      <td>9</td>\n",
              "      <td>15</td>\n",
              "      <td>En fonctionnement</td>\n",
              "      <td>48.112461</td>\n",
              "      <td>-1.643674</td>\n",
              "      <td>2022-03-23T11:35:06+00:00</td>\n",
              "    </tr>\n",
              "    <tr>\n",
              "      <th>2</th>\n",
              "      <td>Brest - Verdun</td>\n",
              "      <td>5534</td>\n",
              "      <td>24</td>\n",
              "      <td>14</td>\n",
              "      <td>10</td>\n",
              "      <td>En fonctionnement</td>\n",
              "      <td>48.113009</td>\n",
              "      <td>-1.693264</td>\n",
              "      <td>2022-03-23T11:35:06+00:00</td>\n",
              "    </tr>\n",
              "    <tr>\n",
              "      <th>3</th>\n",
              "      <td>Marbeuf</td>\n",
              "      <td>5538</td>\n",
              "      <td>20</td>\n",
              "      <td>10</td>\n",
              "      <td>10</td>\n",
              "      <td>En fonctionnement</td>\n",
              "      <td>48.111749</td>\n",
              "      <td>-1.702077</td>\n",
              "      <td>2022-03-23T11:35:06+00:00</td>\n",
              "    </tr>\n",
              "    <tr>\n",
              "      <th>4</th>\n",
              "      <td>Gros-Chêne</td>\n",
              "      <td>5578</td>\n",
              "      <td>18</td>\n",
              "      <td>12</td>\n",
              "      <td>6</td>\n",
              "      <td>En fonctionnement</td>\n",
              "      <td>48.125408</td>\n",
              "      <td>-1.664806</td>\n",
              "      <td>2022-03-23T11:35:06+00:00</td>\n",
              "    </tr>\n",
              "    <tr>\n",
              "      <th>5</th>\n",
              "      <td>Painlevé</td>\n",
              "      <td>5580</td>\n",
              "      <td>29</td>\n",
              "      <td>22</td>\n",
              "      <td>7</td>\n",
              "      <td>En fonctionnement</td>\n",
              "      <td>48.123506</td>\n",
              "      <td>-1.659762</td>\n",
              "      <td>2022-03-23T11:35:06+00:00</td>\n",
              "    </tr>\n",
              "    <tr>\n",
              "      <th>6</th>\n",
              "      <td>Joliot-Curie - Chateaubriand</td>\n",
              "      <td>5581</td>\n",
              "      <td>30</td>\n",
              "      <td>30</td>\n",
              "      <td>0</td>\n",
              "      <td>En fonctionnement</td>\n",
              "      <td>48.124389</td>\n",
              "      <td>-1.651203</td>\n",
              "      <td>2022-03-23T11:35:06+00:00</td>\n",
              "    </tr>\n",
              "    <tr>\n",
              "      <th>7</th>\n",
              "      <td>Pont de Strasbourg</td>\n",
              "      <td>5587</td>\n",
              "      <td>20</td>\n",
              "      <td>5</td>\n",
              "      <td>15</td>\n",
              "      <td>En fonctionnement</td>\n",
              "      <td>48.109859</td>\n",
              "      <td>-1.656028</td>\n",
              "      <td>2022-03-23T11:35:06+00:00</td>\n",
              "    </tr>\n",
              "    <tr>\n",
              "      <th>8</th>\n",
              "      <td>Mabilais</td>\n",
              "      <td>5591</td>\n",
              "      <td>25</td>\n",
              "      <td>11</td>\n",
              "      <td>14</td>\n",
              "      <td>En fonctionnement</td>\n",
              "      <td>48.105086</td>\n",
              "      <td>-1.693069</td>\n",
              "      <td>2022-03-23T11:35:06+00:00</td>\n",
              "    </tr>\n",
              "    <tr>\n",
              "      <th>9</th>\n",
              "      <td>Champs Libres</td>\n",
              "      <td>5516</td>\n",
              "      <td>24</td>\n",
              "      <td>17</td>\n",
              "      <td>7</td>\n",
              "      <td>En fonctionnement</td>\n",
              "      <td>48.105537</td>\n",
              "      <td>-1.674328</td>\n",
              "      <td>2022-03-23T11:35:06+00:00</td>\n",
              "    </tr>\n",
              "  </tbody>\n",
              "</table>\n",
              "</div>\n",
              "      <button class=\"colab-df-convert\" onclick=\"convertToInteractive('df-74a68907-8c00-4440-83b4-81fd4680e180')\"\n",
              "              title=\"Convert this dataframe to an interactive table.\"\n",
              "              style=\"display:none;\">\n",
              "        \n",
              "  <svg xmlns=\"http://www.w3.org/2000/svg\" height=\"24px\"viewBox=\"0 0 24 24\"\n",
              "       width=\"24px\">\n",
              "    <path d=\"M0 0h24v24H0V0z\" fill=\"none\"/>\n",
              "    <path d=\"M18.56 5.44l.94 2.06.94-2.06 2.06-.94-2.06-.94-.94-2.06-.94 2.06-2.06.94zm-11 1L8.5 8.5l.94-2.06 2.06-.94-2.06-.94L8.5 2.5l-.94 2.06-2.06.94zm10 10l.94 2.06.94-2.06 2.06-.94-2.06-.94-.94-2.06-.94 2.06-2.06.94z\"/><path d=\"M17.41 7.96l-1.37-1.37c-.4-.4-.92-.59-1.43-.59-.52 0-1.04.2-1.43.59L10.3 9.45l-7.72 7.72c-.78.78-.78 2.05 0 2.83L4 21.41c.39.39.9.59 1.41.59.51 0 1.02-.2 1.41-.59l7.78-7.78 2.81-2.81c.8-.78.8-2.07 0-2.86zM5.41 20L4 18.59l7.72-7.72 1.47 1.35L5.41 20z\"/>\n",
              "  </svg>\n",
              "      </button>\n",
              "      \n",
              "  <style>\n",
              "    .colab-df-container {\n",
              "      display:flex;\n",
              "      flex-wrap:wrap;\n",
              "      gap: 12px;\n",
              "    }\n",
              "\n",
              "    .colab-df-convert {\n",
              "      background-color: #E8F0FE;\n",
              "      border: none;\n",
              "      border-radius: 50%;\n",
              "      cursor: pointer;\n",
              "      display: none;\n",
              "      fill: #1967D2;\n",
              "      height: 32px;\n",
              "      padding: 0 0 0 0;\n",
              "      width: 32px;\n",
              "    }\n",
              "\n",
              "    .colab-df-convert:hover {\n",
              "      background-color: #E2EBFA;\n",
              "      box-shadow: 0px 1px 2px rgba(60, 64, 67, 0.3), 0px 1px 3px 1px rgba(60, 64, 67, 0.15);\n",
              "      fill: #174EA6;\n",
              "    }\n",
              "\n",
              "    [theme=dark] .colab-df-convert {\n",
              "      background-color: #3B4455;\n",
              "      fill: #D2E3FC;\n",
              "    }\n",
              "\n",
              "    [theme=dark] .colab-df-convert:hover {\n",
              "      background-color: #434B5C;\n",
              "      box-shadow: 0px 1px 3px 1px rgba(0, 0, 0, 0.15);\n",
              "      filter: drop-shadow(0px 1px 2px rgba(0, 0, 0, 0.3));\n",
              "      fill: #FFFFFF;\n",
              "    }\n",
              "  </style>\n",
              "\n",
              "      <script>\n",
              "        const buttonEl =\n",
              "          document.querySelector('#df-74a68907-8c00-4440-83b4-81fd4680e180 button.colab-df-convert');\n",
              "        buttonEl.style.display =\n",
              "          google.colab.kernel.accessAllowed ? 'block' : 'none';\n",
              "\n",
              "        async function convertToInteractive(key) {\n",
              "          const element = document.querySelector('#df-74a68907-8c00-4440-83b4-81fd4680e180');\n",
              "          const dataTable =\n",
              "            await google.colab.kernel.invokeFunction('convertToInteractive',\n",
              "                                                     [key], {});\n",
              "          if (!dataTable) return;\n",
              "\n",
              "          const docLinkHtml = 'Like what you see? Visit the ' +\n",
              "            '<a target=\"_blank\" href=https://colab.research.google.com/notebooks/data_table.ipynb>data table notebook</a>'\n",
              "            + ' to learn more about interactive tables.';\n",
              "          element.innerHTML = '';\n",
              "          dataTable['output_type'] = 'display_data';\n",
              "          await google.colab.output.renderOutput(dataTable, element);\n",
              "          const docLink = document.createElement('div');\n",
              "          docLink.innerHTML = docLinkHtml;\n",
              "          element.appendChild(docLink);\n",
              "        }\n",
              "      </script>\n",
              "    </div>\n",
              "  </div>\n",
              "  "
            ]
          },
          "metadata": {},
          "execution_count": 40
        }
      ]
    },
    {
      "cell_type": "code",
      "source": [
        "rennes_stations.nunique()"
      ],
      "metadata": {
        "colab": {
          "base_uri": "https://localhost:8080/"
        },
        "id": "7jQlYKgPcEvJ",
        "outputId": "22a147e5-0268-48b9-b363-c07dd9c65002"
      },
      "execution_count": null,
      "outputs": [
        {
          "output_type": "execute_result",
          "data": {
            "text/plain": [
              "nom                      10\n",
              "id_station               10\n",
              "nb_emplacements           7\n",
              "nb_emplacements_dispo     9\n",
              "nb_velos_dispo            8\n",
              "etat                      1\n",
              "latitude                 10\n",
              "longitude                10\n",
              "derniere_maj              1\n",
              "dtype: int64"
            ]
          },
          "metadata": {},
          "execution_count": 27
        }
      ]
    },
    {
      "cell_type": "code",
      "source": [
        "rennes_stations.isna().sum()"
      ],
      "metadata": {
        "colab": {
          "base_uri": "https://localhost:8080/"
        },
        "id": "Ojb9b5zpciYr",
        "outputId": "62a74187-a3ab-4c4c-ba9f-885fa0889547"
      },
      "execution_count": null,
      "outputs": [
        {
          "output_type": "execute_result",
          "data": {
            "text/plain": [
              "nom                      0\n",
              "id_station               0\n",
              "nb_emplacements          0\n",
              "nb_emplacements_dispo    0\n",
              "nb_velos_dispo           0\n",
              "etat                     0\n",
              "latitude                 0\n",
              "longitude                0\n",
              "derniere_maj             0\n",
              "dtype: int64"
            ]
          },
          "metadata": {},
          "execution_count": 28
        }
      ]
    },
    {
      "cell_type": "code",
      "source": [
        "lyon_stations = pd.DataFrame(recup_datas_lyon(req_lyon))\n",
        "lyon_stations"
      ],
      "metadata": {
        "colab": {
          "base_uri": "https://localhost:8080/",
          "height": 424
        },
        "id": "ncoyaAnlb2nw",
        "outputId": "08a6a0e9-e726-4387-a7c2-eb9fbd4911db"
      },
      "execution_count": null,
      "outputs": [
        {
          "output_type": "execute_result",
          "data": {
            "text/plain": [
              "                                    nom id_station nb_emplacements  \\\n",
              "0                   Place Mendès France       8010              20   \n",
              "1                    Servant / Jaboulay       7055              16   \n",
              "2                Saint Fons - 4 chemins      17002              11   \n",
              "3    Place des Compagnons de la chanson       5002              18   \n",
              "4                          Place Ampère       2003              10   \n",
              "..                                  ...        ...             ...   \n",
              "426             Martinière / Monplaisir       8054              20   \n",
              "427                 Lacour / Artillerie       7025              20   \n",
              "428                   Créqui / Voltaire       3018              30   \n",
              "429                           Gailleton       2012              16   \n",
              "430              Jaurès / Saint Exupéry      10023              25   \n",
              "\n",
              "    nb_emplacements_dispo nb_velos_dispo  etat             latitude  \\\n",
              "0                      18              2  OPEN  45.7400516465032750   \n",
              "1                       0             16  OPEN  45.7467662258473740   \n",
              "2                       0             11  OPEN  45.7084437290321550   \n",
              "3                      12              6  OPEN  45.7565273368784000   \n",
              "4                       0             10  OPEN  45.7530445329675700   \n",
              "..                    ...            ...   ...                  ...   \n",
              "426                    12              8  OPEN  45.7408946957303000   \n",
              "427                     0             19  OPEN  45.7294551265970500   \n",
              "428                    26              4  OPEN  45.7566983441751900   \n",
              "429                     1             14  OPEN  45.7534495026210240   \n",
              "430                    24              1  OPEN  45.7576238257730240   \n",
              "\n",
              "              longitude         derniere_maj  \n",
              "0    4.8594164128821960  2022-03-23 12:28:43  \n",
              "1    4.8420506993495060  2022-03-23 12:31:50  \n",
              "2    4.8548610775585280  2022-03-23 12:28:49  \n",
              "3    4.7966121788894250  2022-03-23 12:25:12  \n",
              "4    4.8282455395393775  2022-03-23 12:30:15  \n",
              "..                  ...                  ...  \n",
              "426  4.8683054018251575  2022-03-23 12:27:33  \n",
              "427  4.8441778720101850  2022-03-23 12:31:36  \n",
              "428  4.8484034857557150  2022-03-23 12:33:40  \n",
              "429  4.8333645518023690  2022-03-23 12:28:01  \n",
              "430  4.8834373293055560  2022-03-23 12:26:32  \n",
              "\n",
              "[431 rows x 9 columns]"
            ],
            "text/html": [
              "\n",
              "  <div id=\"df-1b686f4e-8407-4ba4-933a-d9a16ddd9ace\">\n",
              "    <div class=\"colab-df-container\">\n",
              "      <div>\n",
              "<style scoped>\n",
              "    .dataframe tbody tr th:only-of-type {\n",
              "        vertical-align: middle;\n",
              "    }\n",
              "\n",
              "    .dataframe tbody tr th {\n",
              "        vertical-align: top;\n",
              "    }\n",
              "\n",
              "    .dataframe thead th {\n",
              "        text-align: right;\n",
              "    }\n",
              "</style>\n",
              "<table border=\"1\" class=\"dataframe\">\n",
              "  <thead>\n",
              "    <tr style=\"text-align: right;\">\n",
              "      <th></th>\n",
              "      <th>nom</th>\n",
              "      <th>id_station</th>\n",
              "      <th>nb_emplacements</th>\n",
              "      <th>nb_emplacements_dispo</th>\n",
              "      <th>nb_velos_dispo</th>\n",
              "      <th>etat</th>\n",
              "      <th>latitude</th>\n",
              "      <th>longitude</th>\n",
              "      <th>derniere_maj</th>\n",
              "    </tr>\n",
              "  </thead>\n",
              "  <tbody>\n",
              "    <tr>\n",
              "      <th>0</th>\n",
              "      <td>Place Mendès France</td>\n",
              "      <td>8010</td>\n",
              "      <td>20</td>\n",
              "      <td>18</td>\n",
              "      <td>2</td>\n",
              "      <td>OPEN</td>\n",
              "      <td>45.7400516465032750</td>\n",
              "      <td>4.8594164128821960</td>\n",
              "      <td>2022-03-23 12:28:43</td>\n",
              "    </tr>\n",
              "    <tr>\n",
              "      <th>1</th>\n",
              "      <td>Servant / Jaboulay</td>\n",
              "      <td>7055</td>\n",
              "      <td>16</td>\n",
              "      <td>0</td>\n",
              "      <td>16</td>\n",
              "      <td>OPEN</td>\n",
              "      <td>45.7467662258473740</td>\n",
              "      <td>4.8420506993495060</td>\n",
              "      <td>2022-03-23 12:31:50</td>\n",
              "    </tr>\n",
              "    <tr>\n",
              "      <th>2</th>\n",
              "      <td>Saint Fons - 4 chemins</td>\n",
              "      <td>17002</td>\n",
              "      <td>11</td>\n",
              "      <td>0</td>\n",
              "      <td>11</td>\n",
              "      <td>OPEN</td>\n",
              "      <td>45.7084437290321550</td>\n",
              "      <td>4.8548610775585280</td>\n",
              "      <td>2022-03-23 12:28:49</td>\n",
              "    </tr>\n",
              "    <tr>\n",
              "      <th>3</th>\n",
              "      <td>Place des Compagnons de la chanson</td>\n",
              "      <td>5002</td>\n",
              "      <td>18</td>\n",
              "      <td>12</td>\n",
              "      <td>6</td>\n",
              "      <td>OPEN</td>\n",
              "      <td>45.7565273368784000</td>\n",
              "      <td>4.7966121788894250</td>\n",
              "      <td>2022-03-23 12:25:12</td>\n",
              "    </tr>\n",
              "    <tr>\n",
              "      <th>4</th>\n",
              "      <td>Place Ampère</td>\n",
              "      <td>2003</td>\n",
              "      <td>10</td>\n",
              "      <td>0</td>\n",
              "      <td>10</td>\n",
              "      <td>OPEN</td>\n",
              "      <td>45.7530445329675700</td>\n",
              "      <td>4.8282455395393775</td>\n",
              "      <td>2022-03-23 12:30:15</td>\n",
              "    </tr>\n",
              "    <tr>\n",
              "      <th>...</th>\n",
              "      <td>...</td>\n",
              "      <td>...</td>\n",
              "      <td>...</td>\n",
              "      <td>...</td>\n",
              "      <td>...</td>\n",
              "      <td>...</td>\n",
              "      <td>...</td>\n",
              "      <td>...</td>\n",
              "      <td>...</td>\n",
              "    </tr>\n",
              "    <tr>\n",
              "      <th>426</th>\n",
              "      <td>Martinière / Monplaisir</td>\n",
              "      <td>8054</td>\n",
              "      <td>20</td>\n",
              "      <td>12</td>\n",
              "      <td>8</td>\n",
              "      <td>OPEN</td>\n",
              "      <td>45.7408946957303000</td>\n",
              "      <td>4.8683054018251575</td>\n",
              "      <td>2022-03-23 12:27:33</td>\n",
              "    </tr>\n",
              "    <tr>\n",
              "      <th>427</th>\n",
              "      <td>Lacour / Artillerie</td>\n",
              "      <td>7025</td>\n",
              "      <td>20</td>\n",
              "      <td>0</td>\n",
              "      <td>19</td>\n",
              "      <td>OPEN</td>\n",
              "      <td>45.7294551265970500</td>\n",
              "      <td>4.8441778720101850</td>\n",
              "      <td>2022-03-23 12:31:36</td>\n",
              "    </tr>\n",
              "    <tr>\n",
              "      <th>428</th>\n",
              "      <td>Créqui / Voltaire</td>\n",
              "      <td>3018</td>\n",
              "      <td>30</td>\n",
              "      <td>26</td>\n",
              "      <td>4</td>\n",
              "      <td>OPEN</td>\n",
              "      <td>45.7566983441751900</td>\n",
              "      <td>4.8484034857557150</td>\n",
              "      <td>2022-03-23 12:33:40</td>\n",
              "    </tr>\n",
              "    <tr>\n",
              "      <th>429</th>\n",
              "      <td>Gailleton</td>\n",
              "      <td>2012</td>\n",
              "      <td>16</td>\n",
              "      <td>1</td>\n",
              "      <td>14</td>\n",
              "      <td>OPEN</td>\n",
              "      <td>45.7534495026210240</td>\n",
              "      <td>4.8333645518023690</td>\n",
              "      <td>2022-03-23 12:28:01</td>\n",
              "    </tr>\n",
              "    <tr>\n",
              "      <th>430</th>\n",
              "      <td>Jaurès / Saint Exupéry</td>\n",
              "      <td>10023</td>\n",
              "      <td>25</td>\n",
              "      <td>24</td>\n",
              "      <td>1</td>\n",
              "      <td>OPEN</td>\n",
              "      <td>45.7576238257730240</td>\n",
              "      <td>4.8834373293055560</td>\n",
              "      <td>2022-03-23 12:26:32</td>\n",
              "    </tr>\n",
              "  </tbody>\n",
              "</table>\n",
              "<p>431 rows × 9 columns</p>\n",
              "</div>\n",
              "      <button class=\"colab-df-convert\" onclick=\"convertToInteractive('df-1b686f4e-8407-4ba4-933a-d9a16ddd9ace')\"\n",
              "              title=\"Convert this dataframe to an interactive table.\"\n",
              "              style=\"display:none;\">\n",
              "        \n",
              "  <svg xmlns=\"http://www.w3.org/2000/svg\" height=\"24px\"viewBox=\"0 0 24 24\"\n",
              "       width=\"24px\">\n",
              "    <path d=\"M0 0h24v24H0V0z\" fill=\"none\"/>\n",
              "    <path d=\"M18.56 5.44l.94 2.06.94-2.06 2.06-.94-2.06-.94-.94-2.06-.94 2.06-2.06.94zm-11 1L8.5 8.5l.94-2.06 2.06-.94-2.06-.94L8.5 2.5l-.94 2.06-2.06.94zm10 10l.94 2.06.94-2.06 2.06-.94-2.06-.94-.94-2.06-.94 2.06-2.06.94z\"/><path d=\"M17.41 7.96l-1.37-1.37c-.4-.4-.92-.59-1.43-.59-.52 0-1.04.2-1.43.59L10.3 9.45l-7.72 7.72c-.78.78-.78 2.05 0 2.83L4 21.41c.39.39.9.59 1.41.59.51 0 1.02-.2 1.41-.59l7.78-7.78 2.81-2.81c.8-.78.8-2.07 0-2.86zM5.41 20L4 18.59l7.72-7.72 1.47 1.35L5.41 20z\"/>\n",
              "  </svg>\n",
              "      </button>\n",
              "      \n",
              "  <style>\n",
              "    .colab-df-container {\n",
              "      display:flex;\n",
              "      flex-wrap:wrap;\n",
              "      gap: 12px;\n",
              "    }\n",
              "\n",
              "    .colab-df-convert {\n",
              "      background-color: #E8F0FE;\n",
              "      border: none;\n",
              "      border-radius: 50%;\n",
              "      cursor: pointer;\n",
              "      display: none;\n",
              "      fill: #1967D2;\n",
              "      height: 32px;\n",
              "      padding: 0 0 0 0;\n",
              "      width: 32px;\n",
              "    }\n",
              "\n",
              "    .colab-df-convert:hover {\n",
              "      background-color: #E2EBFA;\n",
              "      box-shadow: 0px 1px 2px rgba(60, 64, 67, 0.3), 0px 1px 3px 1px rgba(60, 64, 67, 0.15);\n",
              "      fill: #174EA6;\n",
              "    }\n",
              "\n",
              "    [theme=dark] .colab-df-convert {\n",
              "      background-color: #3B4455;\n",
              "      fill: #D2E3FC;\n",
              "    }\n",
              "\n",
              "    [theme=dark] .colab-df-convert:hover {\n",
              "      background-color: #434B5C;\n",
              "      box-shadow: 0px 1px 3px 1px rgba(0, 0, 0, 0.15);\n",
              "      filter: drop-shadow(0px 1px 2px rgba(0, 0, 0, 0.3));\n",
              "      fill: #FFFFFF;\n",
              "    }\n",
              "  </style>\n",
              "\n",
              "      <script>\n",
              "        const buttonEl =\n",
              "          document.querySelector('#df-1b686f4e-8407-4ba4-933a-d9a16ddd9ace button.colab-df-convert');\n",
              "        buttonEl.style.display =\n",
              "          google.colab.kernel.accessAllowed ? 'block' : 'none';\n",
              "\n",
              "        async function convertToInteractive(key) {\n",
              "          const element = document.querySelector('#df-1b686f4e-8407-4ba4-933a-d9a16ddd9ace');\n",
              "          const dataTable =\n",
              "            await google.colab.kernel.invokeFunction('convertToInteractive',\n",
              "                                                     [key], {});\n",
              "          if (!dataTable) return;\n",
              "\n",
              "          const docLinkHtml = 'Like what you see? Visit the ' +\n",
              "            '<a target=\"_blank\" href=https://colab.research.google.com/notebooks/data_table.ipynb>data table notebook</a>'\n",
              "            + ' to learn more about interactive tables.';\n",
              "          element.innerHTML = '';\n",
              "          dataTable['output_type'] = 'display_data';\n",
              "          await google.colab.output.renderOutput(dataTable, element);\n",
              "          const docLink = document.createElement('div');\n",
              "          docLink.innerHTML = docLinkHtml;\n",
              "          element.appendChild(docLink);\n",
              "        }\n",
              "      </script>\n",
              "    </div>\n",
              "  </div>\n",
              "  "
            ]
          },
          "metadata": {},
          "execution_count": 41
        }
      ]
    },
    {
      "cell_type": "code",
      "source": [
        "lyon_stations.nunique()"
      ],
      "metadata": {
        "colab": {
          "base_uri": "https://localhost:8080/"
        },
        "id": "Z6jedUxKcMu2",
        "outputId": "f9b6fbd0-b475-4656-e03d-ae430fa594f6"
      },
      "execution_count": null,
      "outputs": [
        {
          "output_type": "execute_result",
          "data": {
            "text/plain": [
              "nom                      428\n",
              "id_station               431\n",
              "nb_emplacements           35\n",
              "nb_emplacements_dispo     38\n",
              "nb_velos_dispo            37\n",
              "etat                       3\n",
              "latitude                 431\n",
              "longitude                431\n",
              "derniere_maj             287\n",
              "dtype: int64"
            ]
          },
          "metadata": {},
          "execution_count": 35
        }
      ]
    },
    {
      "cell_type": "code",
      "source": [
        "lyon_stations.isna().sum()"
      ],
      "metadata": {
        "colab": {
          "base_uri": "https://localhost:8080/"
        },
        "id": "JE-GrTl-cN1x",
        "outputId": "bab1952d-5c61-452d-d910-e8ec2fcc7c62"
      },
      "execution_count": null,
      "outputs": [
        {
          "output_type": "execute_result",
          "data": {
            "text/plain": [
              "nom                      0\n",
              "id_station               0\n",
              "nb_emplacements          0\n",
              "nb_emplacements_dispo    0\n",
              "nb_velos_dispo           0\n",
              "etat                     0\n",
              "latitude                 0\n",
              "longitude                0\n",
              "derniere_maj             0\n",
              "dtype: int64"
            ]
          },
          "metadata": {},
          "execution_count": 36
        }
      ]
    },
    {
      "cell_type": "code",
      "source": [
        "WHETHER_API_KEY = \"3dfeff6f304e5faa5bbb3f4598a260e3\""
      ],
      "metadata": {
        "id": "j7rM3OK9t6xC"
      },
      "execution_count": null,
      "outputs": []
    },
    {
      "cell_type": "code",
      "source": [
        "whether_lyon_req = requestAPI(f\"https://api.openweathermap.org/data/2.5/weather?q=Lyon&units=metric&lang=fr&appid={WHETHER_API_KEY}\")\n",
        "whether_rennes_req = requestAPI(f\"https://api.openweathermap.org/data/2.5/weather?q=Rennes&units=metric&lang=fr&appid={WHETHER_API_KEY}\")"
      ],
      "metadata": {
        "id": "CFz5YRj5uE2e"
      },
      "execution_count": null,
      "outputs": []
    },
    {
      "cell_type": "code",
      "source": [
        "def recup_infos_whether(whether_json):\n",
        "  whether_informations = {}\n",
        "\n",
        "  main = whether_json[\"main\"]\n",
        "  whether_informations[\"Température\"] = main[\"temp\"]\n",
        "  whether_informations[\"Température ressentie\"] = main[\"feels_like\"]\n",
        "\n",
        "  whether = whether_json[\"weather\"][0]\n",
        "  whether_informations[\"Temps\"] = whether[\"description\"]\n",
        "\n",
        "  return whether_informations"
      ],
      "metadata": {
        "id": "HjoQQiiov2mK"
      },
      "execution_count": null,
      "outputs": []
    },
    {
      "cell_type": "code",
      "source": [
        "recup_infos_whether(whether_lyon_req)"
      ],
      "metadata": {
        "colab": {
          "base_uri": "https://localhost:8080/"
        },
        "id": "x-OTE3aUuX_E",
        "outputId": "e785452b-6817-4bce-d950-761fff22bbd9"
      },
      "execution_count": null,
      "outputs": [
        {
          "output_type": "execute_result",
          "data": {
            "text/plain": [
              "{'Temps': 'ciel dégagé', 'Température': 13.65, 'Température ressentie': 11.93}"
            ]
          },
          "metadata": {},
          "execution_count": 61
        }
      ]
    },
    {
      "cell_type": "code",
      "source": [
        "recup_infos_whether(whether_rennes_req)"
      ],
      "metadata": {
        "colab": {
          "base_uri": "https://localhost:8080/"
        },
        "id": "_R4DIpW_uci9",
        "outputId": "37252735-00f5-42e5-9c8b-31bdb6f14676"
      },
      "execution_count": null,
      "outputs": [
        {
          "output_type": "execute_result",
          "data": {
            "text/plain": [
              "{'Temps': 'ciel dégagé', 'Température': 15.17, 'Température ressentie': 13.73}"
            ]
          },
          "metadata": {},
          "execution_count": 62
        }
      ]
    }
  ]
}